{
 "cells": [
  {
   "cell_type": "code",
   "execution_count": 1,
   "metadata": {},
   "outputs": [
    {
     "name": "stdout",
     "output_type": "stream",
     "text": [
      "Collecting git+https://github.com/eddykimdata/eviz\n",
      "  Cloning https://github.com/eddykimdata/eviz to /private/var/folders/t3/y1mxtssx339g_v761s90rqfc0000gn/T/pip-req-build-64dsfhf3\n",
      "  Running command git clone -q https://github.com/eddykimdata/eviz /private/var/folders/t3/y1mxtssx339g_v761s90rqfc0000gn/T/pip-req-build-64dsfhf3\n",
      "Requirement already satisfied: pandas==1.5.1 in /Library/Frameworks/Python.framework/Versions/3.8/lib/python3.8/site-packages (from eviz==0.1.0) (1.5.1)\n",
      "Collecting numpy==1.22.0\n",
      "  Downloading numpy-1.22.0-cp38-cp38-macosx_10_9_x86_64.whl (17.6 MB)\n",
      "\u001b[K     |████████████████████████████████| 17.6 MB 5.9 MB/s eta 0:00:01\n",
      "\u001b[?25hRequirement already satisfied: matplotlib==3.6.2 in /Library/Frameworks/Python.framework/Versions/3.8/lib/python3.8/site-packages (from eviz==0.1.0) (3.6.2)\n",
      "Requirement already satisfied: seaborn==0.12.1 in /Library/Frameworks/Python.framework/Versions/3.8/lib/python3.8/site-packages (from eviz==0.1.0) (0.12.1)\n",
      "Requirement already satisfied: python-dateutil>=2.8.1 in /Library/Frameworks/Python.framework/Versions/3.8/lib/python3.8/site-packages (from pandas==1.5.1->eviz==0.1.0) (2.8.1)\n",
      "Requirement already satisfied: pytz>=2020.1 in /Library/Frameworks/Python.framework/Versions/3.8/lib/python3.8/site-packages (from pandas==1.5.1->eviz==0.1.0) (2022.1)\n",
      "Requirement already satisfied: fonttools>=4.22.0 in /Library/Frameworks/Python.framework/Versions/3.8/lib/python3.8/site-packages (from matplotlib==3.6.2->eviz==0.1.0) (4.38.0)\n",
      "Requirement already satisfied: packaging>=20.0 in /Library/Frameworks/Python.framework/Versions/3.8/lib/python3.8/site-packages (from matplotlib==3.6.2->eviz==0.1.0) (21.3)\n",
      "Requirement already satisfied: cycler>=0.10 in /Library/Frameworks/Python.framework/Versions/3.8/lib/python3.8/site-packages (from matplotlib==3.6.2->eviz==0.1.0) (0.11.0)\n",
      "Requirement already satisfied: pyparsing>=2.2.1 in /Library/Frameworks/Python.framework/Versions/3.8/lib/python3.8/site-packages (from matplotlib==3.6.2->eviz==0.1.0) (2.4.7)\n",
      "Requirement already satisfied: contourpy>=1.0.1 in /Library/Frameworks/Python.framework/Versions/3.8/lib/python3.8/site-packages (from matplotlib==3.6.2->eviz==0.1.0) (1.0.6)\n",
      "Requirement already satisfied: kiwisolver>=1.0.1 in /Library/Frameworks/Python.framework/Versions/3.8/lib/python3.8/site-packages (from matplotlib==3.6.2->eviz==0.1.0) (1.4.4)\n",
      "Requirement already satisfied: pillow>=6.2.0 in /Library/Frameworks/Python.framework/Versions/3.8/lib/python3.8/site-packages (from matplotlib==3.6.2->eviz==0.1.0) (9.3.0)\n",
      "Requirement already satisfied: six>=1.5 in /Library/Frameworks/Python.framework/Versions/3.8/lib/python3.8/site-packages (from python-dateutil>=2.8.1->pandas==1.5.1->eviz==0.1.0) (1.15.0)\n",
      "Building wheels for collected packages: eviz\n",
      "  Building wheel for eviz (setup.py) ... \u001b[?25ldone\n",
      "\u001b[?25h  Created wheel for eviz: filename=eviz-0.1.0-py3-none-any.whl size=9792 sha256=6bc279383007eb4cbd7615c6d6f54db3c10456b473d43f97589c063dd428acef\n",
      "  Stored in directory: /private/var/folders/t3/y1mxtssx339g_v761s90rqfc0000gn/T/pip-ephem-wheel-cache-kdtvri67/wheels/e8/bf/ad/11e6bacc7566a390f509898e632a5e7a1dfeb023e60e882bfc\n",
      "Successfully built eviz\n",
      "Installing collected packages: numpy, eviz\n",
      "  Attempting uninstall: numpy\n",
      "    Found existing installation: numpy 1.23.4\n",
      "    Uninstalling numpy-1.23.4:\n",
      "      Successfully uninstalled numpy-1.23.4\n",
      "Successfully installed eviz-0.1.0 numpy-1.22.0\n",
      "\u001b[33mWARNING: You are using pip version 20.1.1; however, version 22.3.1 is available.\n",
      "You should consider upgrading via the '/Library/Frameworks/Python.framework/Versions/3.8/bin/python3.8 -m pip install --upgrade pip' command.\u001b[0m\n"
     ]
    }
   ],
   "source": [
    "!pip3 install git+https://github.com/eddykimdata/eviz"
   ]
  },
  {
   "cell_type": "code",
   "execution_count": 9,
   "metadata": {},
   "outputs": [],
   "source": [
    "import pandas as pd\n",
    "import numpy as np\n",
    "from eviz import eviz"
   ]
  },
  {
   "cell_type": "code",
   "execution_count": 18,
   "metadata": {},
   "outputs": [
    {
     "data": {
      "text/html": [
       "<div>\n",
       "<style scoped>\n",
       "    .dataframe tbody tr th:only-of-type {\n",
       "        vertical-align: middle;\n",
       "    }\n",
       "\n",
       "    .dataframe tbody tr th {\n",
       "        vertical-align: top;\n",
       "    }\n",
       "\n",
       "    .dataframe thead th {\n",
       "        text-align: right;\n",
       "    }\n",
       "</style>\n",
       "<table border=\"1\" class=\"dataframe\">\n",
       "  <thead>\n",
       "    <tr style=\"text-align: right;\">\n",
       "      <th></th>\n",
       "      <th>ds</th>\n",
       "      <th>device</th>\n",
       "      <th>customers</th>\n",
       "    </tr>\n",
       "  </thead>\n",
       "  <tbody>\n",
       "    <tr>\n",
       "      <th>0</th>\n",
       "      <td>2022-09-01</td>\n",
       "      <td>android</td>\n",
       "      <td>125</td>\n",
       "    </tr>\n",
       "    <tr>\n",
       "      <th>1</th>\n",
       "      <td>2022-09-01</td>\n",
       "      <td>desktop</td>\n",
       "      <td>225</td>\n",
       "    </tr>\n",
       "    <tr>\n",
       "      <th>2</th>\n",
       "      <td>2022-09-01</td>\n",
       "      <td>ios</td>\n",
       "      <td>300</td>\n",
       "    </tr>\n",
       "    <tr>\n",
       "      <th>3</th>\n",
       "      <td>2022-09-02</td>\n",
       "      <td>android</td>\n",
       "      <td>146</td>\n",
       "    </tr>\n",
       "    <tr>\n",
       "      <th>4</th>\n",
       "      <td>2022-09-02</td>\n",
       "      <td>desktop</td>\n",
       "      <td>300</td>\n",
       "    </tr>\n",
       "    <tr>\n",
       "      <th>5</th>\n",
       "      <td>2022-09-02</td>\n",
       "      <td>ios</td>\n",
       "      <td>400</td>\n",
       "    </tr>\n",
       "  </tbody>\n",
       "</table>\n",
       "</div>"
      ],
      "text/plain": [
       "           ds   device  customers\n",
       "0  2022-09-01  android        125\n",
       "1  2022-09-01  desktop        225\n",
       "2  2022-09-01      ios        300\n",
       "3  2022-09-02  android        146\n",
       "4  2022-09-02  desktop        300\n",
       "5  2022-09-02      ios        400"
      ]
     },
     "execution_count": 18,
     "metadata": {},
     "output_type": "execute_result"
    }
   ],
   "source": [
    "df = pd.DataFrame({\n",
    "    'ds': ['2022-09-01']*3 + ['2022-09-02']*3, \n",
    "    'device': ['android', 'desktop', 'ios']*2, \n",
    "    'customers': [125, 225, 300, 146, 300, 400]})\n",
    "df"
   ]
  },
  {
   "cell_type": "code",
   "execution_count": 22,
   "metadata": {},
   "outputs": [
    {
     "data": {
      "text/plain": [
       "(<Figure size 144x432 with 1 Axes>,\n",
       " {'ios': (0.12156862745098039, 0.4666666666666667, 0.7058823529411765),\n",
       "  'desktop': (1.0, 0.4980392156862745, 0.054901960784313725),\n",
       "  'android': (0.17254901960784313, 0.6274509803921569, 0.17254901960784313)})"
      ]
     },
     "execution_count": 22,
     "metadata": {},
     "output_type": "execute_result"
    },
    {
     "data": {
      "image/png": "[encoded data removed]",
      "text/plain": [
       "<Figure size 144x432 with 1 Axes>"
      ]
     },
     "metadata": {
      "needs_background": "light"
     },
     "output_type": "display_data"
    }
   ],
   "source": [
    "eviz.shares_plot(\n",
    "    data=df,\n",
    "    x='ds',\n",
    "    y='customers',\n",
    "    hue='device',\n",
    "    kind='bar',\n",
    "    normalize=False\n",
    ")"
   ]
  },
  {
   "cell_type": "code",
   "execution_count": null,
   "metadata": {},
   "outputs": [],
   "source": []
  }
 ],
 "metadata": {
  "kernelspec": {
   "display_name": "venv_eviz",
   "language": "python",
   "name": "venv_eviz"
  },
  "language_info": {
   "codemirror_mode": {
    "name": "ipython",
    "version": 3
   },
   "file_extension": ".py",
   "mimetype": "text/x-python",
   "name": "python",
   "nbconvert_exporter": "python",
   "pygments_lexer": "ipython3",
   "version": "3.8.3"
  }
 },
 "nbformat": 4,
 "nbformat_minor": 4
}
